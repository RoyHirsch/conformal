{
 "cells": [
  {
   "cell_type": "code",
   "execution_count": 15,
   "metadata": {},
   "outputs": [],
   "source": [
    "from evaluate import load_pickle, split_data\n",
    "import torch\n",
    "import torch.nn as nn\n",
    "import torch.optim as optim\n",
    "import numpy as np\n",
    "import matplotlib.pyplot as plt\n",
    "import numpy as np\n",
    "from scipy.special import softmax\n",
    "\n",
    "n_calib = 10000\n",
    "max_valid = 50000\n",
    "\n",
    "batch_size = 128\n",
    "num_worker = 4\n",
    "alpha = 0.1\n",
    "ts = True\n",
    "seed = None\n",
    "use_softmax = True\n",
    "\n",
    "file_name = '/home/royhirsch/conformal/data/embeds_n_logits/imnet1k_r152/valid.pickle'\n",
    "# file_name = '/home/royhirsch/conformal/data/imagenet-resnet152.pickle'\n",
    "\n",
    "data = load_pickle(file_name)\n",
    "valid_data, calib_data = split_data(data, n_calib, seed=0)\n",
    "\n",
    "logits = calib_data['preds']\n",
    "labels = calib_data['labels']\n",
    "n = len(labels)\n"
   ]
  },
  {
   "cell_type": "code",
   "execution_count": 18,
   "metadata": {},
   "outputs": [
    {
     "name": "stderr",
     "output_type": "stream",
     "text": [
      "/tmp/ipykernel_467789/4139050955.py:15: DeprecationWarning: the `interpolation=` argument to quantile was renamed to `method=`, which has additional options.\n",
      "Users of the modes 'nearest', 'lower', 'higher', or 'midpoint' are encouraged to review the method they used. (Deprecated NumPy 1.22)\n",
      "  qhat = np.quantile(\n"
     ]
    },
    {
     "data": {
      "text/plain": [
       "(0.901775, 216.20455, 0.8679275)"
      ]
     },
     "execution_count": 18,
     "metadata": {},
     "output_type": "execute_result"
    }
   ],
   "source": [
    "# get conformal score\n",
    "cal_labels = calib_data['labels']\n",
    "cal_smx = softmax(calib_data['preds'], 1)\n",
    "\n",
    "val_labels = valid_data['labels']\n",
    "val_smx = softmax(valid_data['preds'], 1)\n",
    "\n",
    "# Get scores. calib_X.shape[0] == calib_Y.shape[0] == n\n",
    "cal_pi = cal_smx.argsort(1)[:, ::-1]\n",
    "cal_srt = np.take_along_axis(cal_smx, cal_pi, axis=1).cumsum(axis=1)\n",
    "cal_scores = np.take_along_axis(cal_srt, cal_pi.argsort(axis=1), axis=1)[\n",
    "    range(n), cal_labels\n",
    "]\n",
    "# Get the score quantile\n",
    "qhat = np.quantile(\n",
    "    cal_scores, np.ceil((n + 1) * (1 - alpha)) / n, interpolation=\"higher\"\n",
    ")\n",
    "# Deploy (output=list of length n, each element is tensor of classes)\n",
    "val_pi = val_smx.argsort(1)[:, ::-1]\n",
    "val_srt = np.take_along_axis(val_smx, val_pi, axis=1).cumsum(axis=1)\n",
    "prediction_sets = np.take_along_axis(val_srt <= qhat, val_pi.argsort(axis=1), axis=1)\n",
    "\n",
    "prediction_sets[np.arange(len(val_labels)), val_labels].mean(), prediction_sets.sum(1).mean(), qhat\n"
   ]
  },
  {
   "cell_type": "code",
   "execution_count": 19,
   "metadata": {},
   "outputs": [
    {
     "name": "stderr",
     "output_type": "stream",
     "text": [
      "/tmp/ipykernel_467789/2833214419.py:20: DeprecationWarning: the `interpolation=` argument to quantile was renamed to `method=`, which has additional options.\n",
      "Users of the modes 'nearest', 'lower', 'higher', or 'midpoint' are encouraged to review the method they used. (Deprecated NumPy 1.22)\n",
      "  qhat = np.quantile(\n"
     ]
    },
    {
     "data": {
      "text/plain": [
       "(0.9465, 27.083475, 0.7508953704146676)"
      ]
     },
     "execution_count": 19,
     "metadata": {},
     "output_type": "execute_result"
    }
   ],
   "source": [
    "randomized = True\n",
    "no_zero_size_sets = True\n",
    "\n",
    "# Get scores. calib_X.shape[0] == calib_Y.shape[0] == n\n",
    "cal_pi = cal_smx.argsort(1)[:, ::-1]\n",
    "cal_srt = np.take_along_axis(cal_smx, cal_pi, axis=1).cumsum(axis=1)\n",
    "cal_softmax_correct_class = np.take_along_axis(cal_srt, cal_pi.argsort(axis=1), axis=1)[\n",
    "    range(n), cal_labels\n",
    "]\n",
    "if not randomized:\n",
    "  cal_scores = cal_softmax_correct_class\n",
    "else:\n",
    "  cumsum_index = np.where(cal_srt == cal_softmax_correct_class[:,None])[1]\n",
    "  high = cal_softmax_correct_class\n",
    "  low = np.zeros_like(high)\n",
    "  low[cumsum_index != 0] = cal_srt[np.where(cumsum_index != 0)[0], cumsum_index[cumsum_index != 0]-1]\n",
    "  cal_scores = np.random.uniform(low=low, high=high)\n",
    "\n",
    "# Get the score quantile\n",
    "qhat = np.quantile(\n",
    "    cal_scores, np.ceil((n + 1) * (1 - alpha)) / n, interpolation=\"higher\"\n",
    ")\n",
    "# Deploy (output=list of length n, each element is tensor of classes)\n",
    "val_pi = val_smx.argsort(1)[:, ::-1]\n",
    "val_srt = np.take_along_axis(val_smx, val_pi, axis=1).cumsum(axis=1)\n",
    "if not randomized:\n",
    "  prediction_sets = np.take_along_axis(val_srt <= qhat, val_pi.argsort(axis=1), axis=1)\n",
    "else:\n",
    "  n_val = val_srt.shape[0]\n",
    "  cumsum_index = np.sum(val_srt <= qhat, axis=1)\n",
    "  high = val_srt[np.arange(n_val), cumsum_index]\n",
    "  low = np.zeros_like(high)\n",
    "  low[cumsum_index > 0] = val_srt[np.arange(n_val), cumsum_index-1][cumsum_index > 0]\n",
    "  prob = (qhat - low)/(high - low)\n",
    "  rv = np.random.binomial(1,prob,size=(n_val))\n",
    "  randomized_threshold = low\n",
    "  randomized_threshold[rv == 1] = high[rv == 1]\n",
    "  if no_zero_size_sets:\n",
    "    randomized_threshold = np.maximum(randomized_threshold, val_srt[:,0])\n",
    "  prediction_sets = np.take_along_axis(val_srt <= randomized_threshold[:,None], val_pi.argsort(axis=1), axis=1)\n",
    "\n",
    "prediction_sets[np.arange(len(val_labels)), val_labels].mean(), prediction_sets.sum(1).mean(), qhat\n"
   ]
  },
  {
   "cell_type": "code",
   "execution_count": 39,
   "metadata": {},
   "outputs": [
    {
     "data": {
      "text/plain": [
       "(30000, 1000)"
      ]
     },
     "execution_count": 39,
     "metadata": {},
     "output_type": "execute_result"
    }
   ],
   "source": [
    "prediction_sets.shape"
   ]
  },
  {
   "cell_type": "code",
   "execution_count": 24,
   "metadata": {},
   "outputs": [
    {
     "name": "stdout",
     "output_type": "stream",
     "text": [
      "-4578.80224609375\n"
     ]
    }
   ],
   "source": [
    "def platt_logits(logits, labels, max_iters=10, lr=0.01, epsilon=0.01):\n",
    "    calib_dataset = torch.utils.data.TensorDataset(torch.from_numpy(logits),\n",
    "                                                   torch.from_numpy(labels).long()) \n",
    "    calib_loader = torch.utils.data.DataLoader(calib_dataset,\n",
    "                                               batch_size=64,\n",
    "                                               shuffle=False, pin_memory=True)\n",
    "\n",
    "    nll_criterion = nn.CrossEntropyLoss().cuda()\n",
    "\n",
    "    T = nn.Parameter(torch.Tensor([1.3]).cuda())\n",
    "\n",
    "    optimizer = optim.SGD([T], lr=lr)\n",
    "    for iter in range(max_iters):\n",
    "        T_old = T.item()\n",
    "        for x, targets in calib_loader:\n",
    "            optimizer.zero_grad()\n",
    "            x = x.cuda()\n",
    "            x.requires_grad = True\n",
    "            out = x/T\n",
    "            loss = nll_criterion(out, targets.long().cuda())\n",
    "            loss.backward()\n",
    "            optimizer.step()\n",
    "        if abs(T_old - T.item()) < epsilon:\n",
    "            break\n",
    "    return T.item() \n",
    "\n",
    "t = platt_logits(logits, labels)\n",
    "print(t)\n",
    "t = 1.\n"
   ]
  },
  {
   "cell_type": "code",
   "execution_count": 28,
   "metadata": {},
   "outputs": [
    {
     "name": "stdout",
     "output_type": "stream",
     "text": [
      "0.004224595261632634 0.004224595261632634\n"
     ]
    },
    {
     "name": "stderr",
     "output_type": "stream",
     "text": [
      "/tmp/ipykernel_455822/2694760229.py:24: DeprecationWarning: the `interpolation=` argument to quantile was renamed to `method=`, which has additional options.\n",
      "Users of the modes 'nearest', 'lower', 'higher', or 'midpoint' are encouraged to review the method they used. (Deprecated NumPy 1.22)\n",
      "  qhat_q = np.quantile(scores, q_level, interpolation=\"higher\")\n"
     ]
    }
   ],
   "source": [
    "import matplotlib.pyplot as plt\n",
    "import numpy as np\n",
    "from scipy.special import softmax\n",
    "\n",
    "# calibrate\n",
    "if use_softmax:\n",
    "    probs = softmax(logits / t, 1)\n",
    "else:\n",
    "    probs = logits\n",
    "    \n",
    "scores = []\n",
    "for p, l in zip(probs, labels):\n",
    "    true_class_prob = p[l]\n",
    "    inds = np.where(p >= true_class_prob)[0]\n",
    "    if len(inds):\n",
    "        scores.append(p[inds].sum())\n",
    "    else:\n",
    "        print('Warning! empty set')\n",
    "\n",
    "scores = np.asarray(scores)\n",
    "sorted_scores = np.sort(scores)\n",
    "qhat = sorted_scores[int(np.ceil((n+1)*(1-alpha)))]\n",
    "q_level = np.ceil((n+1)*(1-alpha))/n\n",
    "qhat_q = np.quantile(scores, q_level, interpolation=\"higher\")\n",
    "print(qhat, qhat_q)"
   ]
  },
  {
   "cell_type": "code",
   "execution_count": 26,
   "metadata": {},
   "outputs": [
    {
     "data": {
      "text/plain": [
       "1001.0"
      ]
     },
     "execution_count": 26,
     "metadata": {},
     "output_type": "execute_result"
    }
   ],
   "source": [
    "def get_score_for_qhat(logits, qhat):\n",
    "    sl = np.sort(logits)[::-1]\n",
    "    sl_ind = np.argsort(logits)[::-1]\n",
    "    i = np.where(np.cumsum(sl) >= qhat)[0][0] + 1\n",
    "    return logits[sl_ind[:i]].sum(), i + 1\n",
    "\n",
    "cal_scores = []\n",
    "set_sizes = []\n",
    "val_logits = softmax(valid_data['preds'] / t, 1)\n",
    "for l in val_logits:\n",
    "    score, size = get_score_for_qhat(l, qhat)\n",
    "    cal_scores.append(score)\n",
    "    set_sizes.append(size)\n",
    "np.asarray(set_sizes).mean()"
   ]
  },
  {
   "cell_type": "code",
   "execution_count": 13,
   "metadata": {},
   "outputs": [
    {
     "name": "stdout",
     "output_type": "stream",
     "text": [
      "0.807633101940155\n"
     ]
    },
    {
     "name": "stderr",
     "output_type": "stream",
     "text": [
      "/tmp/ipykernel_351466/3026817442.py:17: DeprecationWarning: the `interpolation=` argument to quantile was renamed to `method=`, which has additional options.\n",
      "Users of the modes 'nearest', 'lower', 'higher', or 'midpoint' are encouraged to review the method they used. (Deprecated NumPy 1.22)\n",
      "  Qhat = np.quantile(E,1-alpha,interpolation='higher')\n"
     ]
    },
    {
     "name": "stdout",
     "output_type": "stream",
     "text": [
      "0.9082633256912231\n"
     ]
    },
    {
     "data": {
      "text/plain": [
       "16.2947"
      ]
     },
     "execution_count": 13,
     "metadata": {},
     "output_type": "execute_result"
    }
   ],
   "source": [
    "#####\n",
    "# other calib and predict\n",
    "#####\n",
    "\n",
    "def conformal_calibration_logits(calib_loader, T=1., alpha=.1, randomized=True, allow_zero_sets=True):\n",
    "    with torch.no_grad():\n",
    "        E = np.array([])\n",
    "        for logits, targets in calib_loader:\n",
    "            logits = logits.detach().cpu().numpy()\n",
    "\n",
    "            scores = softmax(logits/T, axis=1)\n",
    "\n",
    "            I, ordered, cumsum = sort_sum(scores)\n",
    "\n",
    "            E = np.concatenate((E,giq(scores,targets,I=I,ordered=ordered,cumsum=cumsum ,randomized=randomized, allow_zero_sets=allow_zero_sets)))\n",
    "            \n",
    "        Qhat = np.quantile(E,1-alpha,interpolation='higher')\n",
    "\n",
    "        return Qhat, E \n",
    "\n",
    "\n",
    "def sort_sum(scores):\n",
    "    I = scores.argsort(axis=1)[:,::-1]\n",
    "    ordered = np.sort(scores,axis=1)[:,::-1]\n",
    "    cumsum = np.cumsum(ordered,axis=1) \n",
    "    return I, ordered, cumsum\n",
    "\n",
    "\n",
    "def giq(scores, targets, I, ordered, cumsum, randomized, allow_zero_sets):\n",
    "    \"\"\"\n",
    "        Generalized inverse quantile conformity score function.\n",
    "        E from equation (7) in Romano, Sesia, Candes.  Find the minimum tau in [0, 1] such that the correct label enters.\n",
    "    \"\"\"\n",
    "    E = -np.ones((scores.shape[0],))\n",
    "    for i in range(scores.shape[0]):\n",
    "        E[i] = get_tau(scores[i:i+1,:],targets[i].item(),I[i:i+1,:],ordered[i:i+1,:],cumsum[i:i+1,:],randomized=randomized, allow_zero_sets=allow_zero_sets)\n",
    "\n",
    "    return E\n",
    "\n",
    "\n",
    "def gcq(scores, tau, I, ordered, cumsum, randomized, allow_zero_sets):\n",
    "    sizes_base = ((cumsum) <= tau).sum(axis=1) + 1  # 1 - 1001\n",
    "    sizes_base = np.minimum(sizes_base, scores.shape[1]) # 1-1000\n",
    "\n",
    "    if randomized:\n",
    "        V = np.zeros(sizes_base.shape)\n",
    "        for i in range(sizes_base.shape[0]):\n",
    "            V[i] = 1/ordered[i,sizes_base[i]-1] * \\\n",
    "                    (tau-(cumsum[i,sizes_base[i]-1]-ordered[i,sizes_base[i]-1])) # -1 since sizes_base \\in {1,...,1000}.\n",
    "\n",
    "        sizes = sizes_base - (np.random.random(V.shape) >= V).astype(int)\n",
    "    else:\n",
    "        sizes = sizes_base\n",
    "\n",
    "    if tau == 1.0:\n",
    "        sizes[:] = cumsum.shape[1] # always predict max size if alpha==0. (Avoids numerical error.)\n",
    "\n",
    "    if not allow_zero_sets:\n",
    "        sizes[sizes == 0] = 1 # allow the user the option to never have empty sets (will lead to incorrect coverage if 1-alpha < model's top-1 accuracy\n",
    "\n",
    "    S = list()\n",
    "\n",
    "    # Construct S from equation (5)\n",
    "    for i in range(I.shape[0]):\n",
    "        S = S + [I[i,0:sizes[i]],]\n",
    "\n",
    "    return S\n",
    "\n",
    "\n",
    "# Get the 'p-value'\n",
    "def get_tau(score, target, I, ordered, cumsum, randomized, allow_zero_sets): # For one example\n",
    "    idx = np.where(I==target)\n",
    "    tau_nonrandom = cumsum[idx]\n",
    "\n",
    "    if not randomized:\n",
    "        return tau_nonrandom\n",
    "    \n",
    "    U = np.random.random()\n",
    "\n",
    "    if idx == (0,0):\n",
    "        if not allow_zero_sets:\n",
    "            return tau_nonrandom\n",
    "        else:\n",
    "            return U * tau_nonrandom\n",
    "    else:\n",
    "        return U * ordered[idx] + cumsum[(idx[0],idx[1]-1)]\n",
    "\n",
    "randomized=True\n",
    "allow_zero_sets = True\n",
    "t = platt_logits(logits, labels)\n",
    "print(t)\n",
    "\n",
    "calib_dataset = torch.utils.data.TensorDataset(torch.from_numpy(logits),\n",
    "                                                torch.from_numpy(labels).long()) \n",
    "calib_loader = torch.utils.data.DataLoader(calib_dataset,\n",
    "                                            batch_size=64,\n",
    "                                            shuffle=False, pin_memory=True)\n",
    "qhat, scores = conformal_calibration_logits(calib_loader, t, alpha, randomized, allow_zero_sets)\n",
    "print(qhat)\n",
    "\n",
    "val_logits = valid_data['preds'][:max_valid, :]\n",
    "val_labels = valid_data['labels'][:max_valid]\n",
    "\n",
    "# calibrate\n",
    "if use_softmax:\n",
    "    val_probs = softmax(val_logits / t , 1)\n",
    "else:\n",
    "    val_probs = val_logits\n",
    "\n",
    "I, ordered, cumsum = sort_sum(val_probs)\n",
    "S = gcq(val_probs, qhat, I=I, ordered=ordered, cumsum=cumsum, randomized=randomized, allow_zero_sets=allow_zero_sets)\n",
    "np.asarray([len(s) for s in S]).mean()"
   ]
  },
  {
   "cell_type": "code",
   "execution_count": 14,
   "metadata": {},
   "outputs": [
    {
     "data": {
      "text/plain": [
       "17.110733333333332"
      ]
     },
     "execution_count": 14,
     "metadata": {},
     "output_type": "execute_result"
    }
   ],
   "source": []
  },
  {
   "cell_type": "code",
   "execution_count": 12,
   "metadata": {},
   "outputs": [
    {
     "data": {
      "image/png": "[encoded data removed]",
      "text/plain": [
       "<Figure size 640x480 with 1 Axes>"
      ]
     },
     "metadata": {},
     "output_type": "display_data"
    }
   ],
   "source": [
    "_ = plt.hist(cal_scores)"
   ]
  },
  {
   "cell_type": "code",
   "execution_count": 64,
   "metadata": {},
   "outputs": [
    {
     "data": {
      "text/plain": [
       "15.147666666666666"
      ]
     },
     "execution_count": 64,
     "metadata": {},
     "output_type": "execute_result"
    }
   ],
   "source": [
    "set_sizes = []\n",
    "for l, q in zip(val_logits, cal_scores):\n",
    "    sl = np.sort(l)[::-1]\n",
    "    sl_ind = np.argsort(l)[::-1]\n",
    "    i = np.where(np.cumsum(sl) >= q)[0][0] + 1\n",
    "    set_sizes.append(i)\n",
    "np.asarray(set_sizes).mean()\n"
   ]
  },
  {
   "cell_type": "code",
   "execution_count": 41,
   "metadata": {},
   "outputs": [
    {
     "data": {
      "text/plain": [
       "0.9189198"
      ]
     },
     "execution_count": 41,
     "metadata": {},
     "output_type": "execute_result"
    }
   ],
   "source": [
    "logits[0][527] + logits[0][742] + logits[0][526] + logits[0][664] + logits[0][782] + logits[0][673]"
   ]
  },
  {
   "cell_type": "code",
   "execution_count": 11,
   "metadata": {},
   "outputs": [
    {
     "name": "stdout",
     "output_type": "stream",
     "text": [
      "Acc: 0.9013\n",
      "Set size: 16.01 (62.96)\n"
     ]
    }
   ],
   "source": [
    "# eval\n",
    "total = 0\n",
    "correct = 0\n",
    "set_size = []\n",
    "for s, l in zip(S, val_labels):\n",
    "    total += 1\n",
    "    if l in s:\n",
    "        correct += 1\n",
    "    set_size.append(len(s))\n",
    "acc = correct / float(total)\n",
    "set_size = np.asarray(set_size)\n",
    "\n",
    "print('Acc: {:.4f}'.format(acc))\n",
    "print('Set size: {:.2f} ({:.2f})'.format(set_size.mean(), set_size.std()))\n"
   ]
  },
  {
   "cell_type": "code",
   "execution_count": 5,
   "metadata": {},
   "outputs": [
    {
     "name": "stdout",
     "output_type": "stream",
     "text": [
      "Acc: 0.9945\n",
      "Set size: 278.65 (224.19)\n"
     ]
    }
   ],
   "source": [
    "# predict\n",
    "val_logits = valid_data['preds'][:max_valid, :]\n",
    "val_labels = valid_data['labels'][:max_valid]\n",
    "\n",
    "# calibrate\n",
    "if use_softmax:\n",
    "    val_probs = softmax(val_logits / t , 1)\n",
    "else:\n",
    "    val_probs = val_logits\n",
    "\n",
    "valid_sets = []\n",
    "for p, l in zip(val_probs, val_labels):\n",
    "    sorted_p = np.sort(p)[::-1]\n",
    "    argsort_p = np.argsort(p)[::-1]\n",
    "    cumsum_p = np.cumsum(sorted_p)\n",
    "    inds = np.where(cumsum_p >= qhat)[0]\n",
    "    if len(inds):\n",
    "        min_ind = inds[0] + 1\n",
    "    else:\n",
    "        print('Warning! empty set')\n",
    "    valid_sets.append(argsort_p[:min_ind])\n",
    "\n",
    "# eval\n",
    "total = 0\n",
    "correct = 0\n",
    "set_size = []\n",
    "for s, l in zip(valid_sets, val_labels):\n",
    "    total += 1\n",
    "    if l in s:\n",
    "        correct += 1\n",
    "    set_size.append(len(s))\n",
    "acc = correct / float(total)\n",
    "set_size = np.asarray(set_size)\n",
    "\n",
    "print('Acc: {:.4f}'.format(acc))\n",
    "print('Set size: {:.2f} ({:.2f})'.format(set_size.mean(), set_size.std()))\n"
   ]
  },
  {
   "cell_type": "code",
   "execution_count": 15,
   "metadata": {},
   "outputs": [
    {
     "name": "stderr",
     "output_type": "stream",
     "text": [
      "/tmp/ipykernel_123976/3148427887.py:5: DeprecationWarning: the `interpolation=` argument to quantile was renamed to `method=`, which has additional options.\n",
      "Users of the modes 'nearest', 'lower', 'higher', or 'midpoint' are encouraged to review the method they used. (Deprecated NumPy 1.22)\n",
      "  qhat = np.quantile(cal_scores, np.ceil((n+1)*(1-alpha))/n, interpolation='higher')\n"
     ]
    },
    {
     "name": "stdout",
     "output_type": "stream",
     "text": [
      "0.97921854\n"
     ]
    }
   ],
   "source": [
    "cal_pi = probs.argsort(1)[:,::-1]\n",
    "cal_srt = np.take_along_axis(probs,cal_pi,axis=1).cumsum(axis=1)\n",
    "cal_scores = np.take_along_axis(cal_srt,cal_pi.argsort(axis=1),axis=1)[range(n),labels]\n",
    "# Get the score quantile\n",
    "qhat = np.quantile(cal_scores, np.ceil((n+1)*(1-alpha))/n, interpolation='higher')\n",
    "print(qhat)\n",
    "\n",
    "max_valid = 10000\n",
    "val_probs = valid_data['preds'][:max_valid, :]\n",
    "val_labels = valid_data['labels'][:max_valid]\n",
    "\n",
    "val_pi = val_probs.argsort(1)[:,::-1]\n",
    "val_srt = np.take_along_axis(val_probs,val_pi,axis=1).cumsum(axis=1)\n",
    "prediction_sets = np.take_along_axis(val_srt <= qhat,val_pi.argsort(axis=1),axis=1)"
   ]
  },
  {
   "cell_type": "code",
   "execution_count": 16,
   "metadata": {},
   "outputs": [
    {
     "name": "stdout",
     "output_type": "stream",
     "text": [
      "Acc: 0.0000\n",
      "Set size: 1.76 (0.72)\n"
     ]
    }
   ],
   "source": [
    "# eval\n",
    "total = 0\n",
    "correct = 0\n",
    "set_size = []\n",
    "for s, l in zip(prediction_sets, val_labels):\n",
    "    s = np.where(s)[0]\n",
    "    total += 1\n",
    "    if l in s:\n",
    "        correct += 1\n",
    "    set_size.append(len(s))\n",
    "acc = correct / float(total)\n",
    "set_size = np.asarray(set_size)\n",
    "\n",
    "print('Acc: {:.4f}'.format(acc))\n",
    "print('Set size: {:.2f} ({:.2f})'.format(set_size.mean(), set_size.std()))\n"
   ]
  },
  {
   "cell_type": "code",
   "execution_count": 5,
   "metadata": {},
   "outputs": [
    {
     "name": "stdout",
     "output_type": "stream",
     "text": [
      "Acc: 0.0000\n",
      "Set size: 1.76 (0.72)\n"
     ]
    }
   ],
   "source": []
  },
  {
   "cell_type": "code",
   "execution_count": 6,
   "metadata": {},
   "outputs": [
    {
     "data": {
      "text/plain": [
       "(0.76051396, 0.8952444)"
      ]
     },
     "execution_count": 6,
     "metadata": {},
     "output_type": "execute_result"
    }
   ],
   "source": [
    "probs[np.arange(len(probs)), labels].mean(), scores.mean()\n"
   ]
  },
  {
   "cell_type": "code",
   "execution_count": 7,
   "metadata": {},
   "outputs": [
    {
     "data": {
      "image/png": "[encoded data removed]",
      "text/plain": [
       "<Figure size 640x480 with 1 Axes>"
      ]
     },
     "metadata": {},
     "output_type": "display_data"
    }
   ],
   "source": [
    "_ = plt.hist(scores)"
   ]
  },
  {
   "cell_type": "code",
   "execution_count": 8,
   "metadata": {},
   "outputs": [
    {
     "data": {
      "image/png": "[encoded data removed]",
      "text/plain": [
       "<Figure size 640x480 with 1 Axes>"
      ]
     },
     "metadata": {},
     "output_type": "display_data"
    }
   ],
   "source": [
    "_ = plt.hist(probs[np.arange(len(probs)), labels])"
   ]
  },
  {
   "cell_type": "code",
   "execution_count": 3,
   "metadata": {},
   "outputs": [
    {
     "name": "stdout",
     "output_type": "stream",
     "text": [
      "/\n"
     ]
    }
   ],
   "source": [
    "import os\n",
    "import pickle\n",
    "import numpy as np\n",
    "from scipy.special import softmax\n",
    "\n",
    "import torch\n",
    "import torch.nn as nn\n",
    "import torch.optim as optim\n",
    "\n",
    "from evaluate import load_pickle, split_data\n",
    "from conf_tools import get_logits_dataloader, platt_logits\n",
    "\n",
    "\n",
    "def get_conformal_score(logits, labels, t=1.):\n",
    "    scores = []\n",
    "    inds = []\n",
    "    probs = softmax(logits / t, 1)\n",
    "    for p, l in zip(probs, labels):\n",
    "        true_class_p = p[l]\n",
    "        sorted_p = np.sort(p)[::-1]\n",
    "        # argsort_p = np.argsort(p)[::-1]\n",
    "        i = np.where(sorted_p == true_class_p)[0] + 1\n",
    "        score = sorted_p[:int(i)].sum()\n",
    "        inds.append(i)\n",
    "        scores.append(score)\n",
    "    return np.asarray(scores), np.asarray(inds)\n",
    "\n",
    "def get_dataloader(embeds, scores, labels, batch_size=64, shuffle=False, pin_memory=True):\n",
    "    dataset = torch.utils.data.TensorDataset(torch.from_numpy(embeds),\n",
    "                                            torch.from_numpy(scores),\n",
    "                                            torch.from_numpy(labels).long()) \n",
    "    dataloader = torch.utils.data.DataLoader(dataset,\n",
    "                                             batch_size=batch_size,\n",
    "                                             shuffle=shuffle,\n",
    "                                             pin_memory=pin_memory)\n",
    "    return dataloader\n",
    "\n",
    "\n",
    "\n",
    "num_train = 40000\n",
    "alpha = 0.1\n",
    "file_name = '/home/royhirsch/conformal/data/embeds_n_logits/imnet1k_r152/valid.pickle'\n",
    "plat_scaling = False\n",
    "\n",
    "data = load_pickle(file_name)\n",
    "valid_data, train_data = split_data(data, num_train, seed=0)\n",
    "\n",
    "if plat_scaling:\n",
    "    train_dataloader = get_logits_dataloader(train_data['preds'], train_data['labels'])\n",
    "    t = platt_logits(train_dataloader)\n",
    "else: \n",
    "    t = 1.\n",
    "train_scores, train_inds = get_conformal_score(train_data['preds'], train_data['labels'], t)\n",
    "train_dl = get_dataloader(train_data['embeds'], np.asarray(train_scores), train_data['labels'], batch_size=64, shuffle=False, pin_memory=True)\n",
    "\n",
    "valid_scores, valid_inds = get_conformal_score(valid_data['preds'], valid_data['labels'], t)\n",
    "valid_dl = get_dataloader(valid_data['embeds'], np.asarray(valid_scores), valid_data['labels'], batch_size=64, shuffle=False, pin_memory=True)\n",
    "print('/')"
   ]
  },
  {
   "cell_type": "code",
   "execution_count": 2,
   "metadata": {},
   "outputs": [
    {
     "data": {
      "text/plain": [
       "(0.73133737, 0.72836316)"
      ]
     },
     "execution_count": 2,
     "metadata": {},
     "output_type": "execute_result"
    },
    {
     "data": {
      "image/png": "[encoded data removed]",
      "text/plain": [
       "<Figure size 640x480 with 1 Axes>"
      ]
     },
     "metadata": {},
     "output_type": "display_data"
    }
   ],
   "source": [
    "import matplotlib.pyplot as plt\n",
    "plt.hist(train_scores, label='train', alpha=0.4, density=True)\n",
    "plt.hist(valid_scores, label='valid', alpha=0.4, density=True)\n",
    "plt.legend()\n",
    "\n",
    "train_scores.mean(), valid_scores.mean()"
   ]
  },
  {
   "cell_type": "code",
   "execution_count": 9,
   "metadata": {},
   "outputs": [
    {
     "data": {
      "text/plain": [
       "(3.030525, 2.8822)"
      ]
     },
     "execution_count": 9,
     "metadata": {},
     "output_type": "execute_result"
    },
    {
     "data": {
      "image/png": "[encoded data removed]",
      "text/plain": [
       "<Figure size 640x480 with 1 Axes>"
      ]
     },
     "metadata": {},
     "output_type": "display_data"
    }
   ],
   "source": [
    "plt.hist(train_inds, bins=20, range=[0,20], label='train', alpha=0.4, density=True)\n",
    "plt.hist(valid_inds, bins=20, range=[0,20], label='valid', alpha=0.4, density=True)\n",
    "plt.legend()\n",
    "\n",
    "train_inds.mean(), valid_inds.mean()"
   ]
  },
  {
   "cell_type": "code",
   "execution_count": null,
   "metadata": {},
   "outputs": [],
   "source": []
  }
 ],
 "metadata": {
  "kernelspec": {
   "display_name": "conf",
   "language": "python",
   "name": "python3"
  },
  "language_info": {
   "codemirror_mode": {
    "name": "ipython",
    "version": 3
   },
   "file_extension": ".py",
   "mimetype": "text/x-python",
   "name": "python",
   "nbconvert_exporter": "python",
   "pygments_lexer": "ipython3",
   "version": "3.11.4"
  },
  "orig_nbformat": 4
 },
 "nbformat": 4,
 "nbformat_minor": 2
}
