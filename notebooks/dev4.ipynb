{
 "cells": [
  {
   "cell_type": "code",
   "execution_count": 1,
   "metadata": {},
   "outputs": [
    {
     "name": "stderr",
     "output_type": "stream",
     "text": [
      "/home/royhirsch/miniconda3/envs/py39/lib/python3.9/site-packages/torchvision/io/image.py:13: UserWarning: Failed to load image Python extension: /home/royhirsch/miniconda3/envs/py39/lib/python3.9/site-packages/torchvision/image.so: undefined symbol: _ZN5torch3jit17parseSchemaOrNameERKNSt7__cxx1112basic_stringIcSt11char_traitsIcESaIcEEE\n",
      "  warn(f\"Failed to load image Python extension: {e}\")\n"
     ]
    }
   ],
   "source": [
    "import os\n",
    "import sys\n",
    "sys.path.append('/home/royhirsch/conformal/')\n",
    "\n",
    "import matplotlib.pyplot as plt\n",
    "import numpy as np\n",
    "import utils as utils\n",
    "from experiment import get_config, run_experiment, APS\n",
    "\n"
   ]
  },
  {
   "cell_type": "code",
   "execution_count": 2,
   "metadata": {},
   "outputs": [
    {
     "name": "stderr",
     "output_type": "stream",
     "text": [
      "INFO - 08/12/23 09:58:18 - 0:00:00 - Created main log at /home/royhirsch/conformal/exps/temp1/net_launcher_log.log\n",
      "INFO - 08/12/23 09:58:18 - 0:00:01 - Train/Calib shape: (40000,) | Val shape: (10000,)\n",
      "INFO - 08/12/23 09:58:26 - 0:00:08 - Baseline mets: set_size_mean: 218.463 | set_size_std: 163.581 | acc_per_label_mean: 0.903 | acc_per_label_max: 1.000 | acc_per_label_min: 0.568 | acc: 0.904 | qhat: 0.869\n",
      "INFO - 08/12/23 09:58:26 - 0:00:09 - Train/Calib shape: (40000,) | Val shape: (10000,)\n",
      "INFO - 08/12/23 09:58:27 - 0:00:10 - Clipping 9.67% of the scores to 0.87\n",
      "INFO - 08/12/23 09:58:28 - 0:00:10 - Clipping 9.89% of the scores to 0.87\n",
      "INFO - 08/12/23 09:58:28 - 0:00:10 - NN(\n",
      "                                       (layers): Sequential(\n",
      "                                         (0): Linear(in_features=2048, out_features=128, bias=True)\n",
      "                                         (1): ReLU()\n",
      "                                         (2): Linear(in_features=128, out_features=1, bias=True)\n",
      "                                       )\n",
      "                                     )\n"
     ]
    },
    {
     "ename": "TypeError",
     "evalue": "get_optimizer() missing 1 required positional argument: 'lr'",
     "output_type": "error",
     "traceback": [
      "\u001b[0;31m---------------------------------------------------------------------------\u001b[0m",
      "\u001b[0;31mTypeError\u001b[0m                                 Traceback (most recent call last)",
      "Cell \u001b[0;32mIn[2], line 4\u001b[0m\n\u001b[1;32m      2\u001b[0m utils\u001b[39m.\u001b[39mseed_everything(config\u001b[39m.\u001b[39mseed)\n\u001b[1;32m      3\u001b[0m utils\u001b[39m.\u001b[39mcreate_logger(config\u001b[39m.\u001b[39mexp_dir, \u001b[39mFalse\u001b[39;00m)\n\u001b[0;32m----> 4\u001b[0m run_experiment(config)\n",
      "File \u001b[0;32m~/conformal/experiment.py:226\u001b[0m, in \u001b[0;36mrun_experiment\u001b[0;34m(config)\u001b[0m\n\u001b[1;32m    223\u001b[0m model \u001b[39m=\u001b[39m model\u001b[39m.\u001b[39mto(config\u001b[39m.\u001b[39mdevice)\n\u001b[1;32m    224\u001b[0m logging\u001b[39m.\u001b[39minfo(model)\n\u001b[0;32m--> 226\u001b[0m optimizer \u001b[39m=\u001b[39m get_optimizer(model, config)\n\u001b[1;32m    227\u001b[0m scheduler \u001b[39m=\u001b[39m get_scheduler(optimizer, config)\n\u001b[1;32m    229\u001b[0m \u001b[39mif\u001b[39;00m config\u001b[39m.\u001b[39mcriteria_name \u001b[39m==\u001b[39m \u001b[39m'\u001b[39m\u001b[39mmse\u001b[39m\u001b[39m'\u001b[39m:\n",
      "\u001b[0;31mTypeError\u001b[0m: get_optimizer() missing 1 required positional argument: 'lr'"
     ]
    }
   ],
   "source": [
    "config = get_config()\n",
    "utils.seed_everything(config.seed)\n",
    "utils.create_logger(config.exp_dir, False)\n",
    "run_experiment(config)\n"
   ]
  },
  {
   "cell_type": "markdown",
   "metadata": {},
   "source": []
  },
  {
   "cell_type": "markdown",
   "metadata": {},
   "source": []
  }
 ],
 "metadata": {
  "kernelspec": {
   "display_name": "conf",
   "language": "python",
   "name": "python3"
  },
  "language_info": {
   "codemirror_mode": {
    "name": "ipython",
    "version": 3
   },
   "file_extension": ".py",
   "mimetype": "text/x-python",
   "name": "python",
   "nbconvert_exporter": "python",
   "pygments_lexer": "ipython3",
   "version": "3.9.16"
  },
  "orig_nbformat": 4
 },
 "nbformat": 4,
 "nbformat_minor": 2
}
