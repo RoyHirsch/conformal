{
 "cells": [
  {
   "cell_type": "code",
   "execution_count": 1,
   "metadata": {},
   "outputs": [],
   "source": [
    "from tqdm import tqdm\n",
    "import numpy as np\n",
    "import torch\n",
    "import torch.nn as nn\n",
    "import torch.optim as optim\n",
    "import torch.utils.data as data\n",
    "import torchvision.transforms as transforms\n",
    "\n",
    "import medmnist\n",
    "from medmnist import INFO, Evaluator"
   ]
  },
  {
   "cell_type": "markdown",
   "metadata": {},
   "source": [
    "# Imports"
   ]
  },
  {
   "cell_type": "code",
   "execution_count": 2,
   "metadata": {},
   "outputs": [],
   "source": [
    "import numpy as np\n",
    "from tqdm import tqdm\n",
    "\n",
    "# train\n",
    "device = torch.device('cuda:0')\n",
    "\n",
    "def test(model, data_loader, split, dataset_name):\n",
    "    model.eval()\n",
    "    y_true = torch.tensor([])\n",
    "    y_score = torch.tensor([])\n",
    "    \n",
    "    with torch.no_grad():\n",
    "        for inputs, targets in data_loader:\n",
    "            inputs = inputs.to(device)\n",
    "            targets = targets.to(device)\n",
    "            outputs = model(inputs)\n",
    "\n",
    "            targets = targets.squeeze().long()\n",
    "            outputs = outputs.softmax(dim=-1)\n",
    "            targets = targets.float().resize_(len(targets), 1)\n",
    "            \n",
    "            targets = targets.detach().cpu()\n",
    "            outputs = outputs.detach().cpu()\n",
    "            y_true = torch.cat((y_true, targets), 0)\n",
    "            y_score = torch.cat((y_score, outputs), 0)\n",
    "\n",
    "        y_true = y_true.numpy()\n",
    "        y_score = y_score.detach().numpy()\n",
    "        \n",
    "        evaluator = Evaluator(dataset_name, split)\n",
    "        metrics = evaluator.evaluate(y_score)\n",
    "    \n",
    "        print('%s  auc: %.3f  acc:%.3f' % (split, *metrics))\n",
    "\n",
    "\n",
    "def platt_logits(preds, labels, max_iters=100, lr=0.01, epsilon=0.005):\n",
    "    dataset = torch.utils.data.TensorDataset(torch.from_numpy(preds),\n",
    "                                            torch.from_numpy(labels).long()) \n",
    "    dataloader = torch.utils.data.DataLoader(dataset,\n",
    "                                             batch_size=64,\n",
    "                                             shuffle=True,\n",
    "                                             pin_memory=True)\n",
    "    nll_criterion = nn.CrossEntropyLoss().cuda()\n",
    "\n",
    "    T = nn.Parameter(torch.Tensor([1.]).cuda())\n",
    "    optimizer = optim.SGD([T], lr=lr)\n",
    "    for iter in tqdm(range(max_iters)):\n",
    "        T_old = T.item()\n",
    "        for x, targets in dataloader:\n",
    "            optimizer.zero_grad()\n",
    "            x = x.cuda()\n",
    "            x.requires_grad = True\n",
    "            out = x/T\n",
    "            loss = nll_criterion(out, targets.long().cuda())\n",
    "            loss.backward()\n",
    "            optimizer.step()\n",
    "        if abs(T_old - T.item()) < epsilon:\n",
    "            break\n",
    "    return T.item() \n"
   ]
  },
  {
   "cell_type": "markdown",
   "metadata": {},
   "source": [
    "# Load and eval a trained model"
   ]
  },
  {
   "cell_type": "code",
   "execution_count": 3,
   "metadata": {},
   "outputs": [
    {
     "name": "stdout",
     "output_type": "stream",
     "text": [
      "Using downloaded and verified file: /home/royhirsch/.medmnist/tissuemnist.npz\n",
      "Using downloaded and verified file: /home/royhirsch/.medmnist/tissuemnist.npz\n"
     ]
    }
   ],
   "source": [
    "import PIL\n",
    "\n",
    "UNIFY_DATASET_NAMES = ['organamnist', 'bloodmnist']\n",
    "\n",
    "# tissuemnist, organamnist, pathmnist, bloodmnist\n",
    "dataset_name = 'tissuemnist'\n",
    "use_plat = True\n",
    "\n",
    "unify_test_and_val = True if dataset_name in UNIFY_DATASET_NAMES else False\n",
    "download = True\n",
    "\n",
    "NUM_EPOCHS = 3\n",
    "BATCH_SIZE = 128\n",
    "lr = 0.001\n",
    "\n",
    "info = INFO[dataset_name]\n",
    "task = info['task']\n",
    "n_channels = info['n_channels']\n",
    "n_classes = len(info['label'])\n",
    "\n",
    "DataClass = getattr(medmnist, info['python_class'])\n",
    "# preprocessing\n",
    "# data_transform = transforms.Compose([\n",
    "#     transforms.ToTensor(),\n",
    "#     transforms.Normalize(mean=[.5], std=[.5])\n",
    "# ])\n",
    "\n",
    "data_transform = transforms.Compose(\n",
    "    [transforms.Resize((224, 224), interpolation=PIL.Image.NEAREST), \n",
    "    transforms.ToTensor(),\n",
    "    transforms.Normalize(mean=[.5], std=[.5])])\n",
    "\n",
    "val_dataset = DataClass(split='val', transform=data_transform, download=download, as_rgb=True)\n",
    "test_dataset = DataClass(split='test', transform=data_transform, download=download, as_rgb=True)\n",
    "\n",
    "val_loader = data.DataLoader(dataset=val_dataset, batch_size=2*BATCH_SIZE, shuffle=False)\n",
    "test_loader = data.DataLoader(dataset=test_dataset, batch_size=2*BATCH_SIZE, shuffle=False)"
   ]
  },
  {
   "cell_type": "code",
   "execution_count": 4,
   "metadata": {},
   "outputs": [
    {
     "name": "stderr",
     "output_type": "stream",
     "text": [
      "/home/royhirsch/miniconda3/envs/conf/lib/python3.11/site-packages/torchvision/models/_utils.py:208: UserWarning: The parameter 'pretrained' is deprecated since 0.13 and may be removed in the future, please use 'weights' instead.\n",
      "  warnings.warn(\n",
      "/home/royhirsch/miniconda3/envs/conf/lib/python3.11/site-packages/torchvision/models/_utils.py:223: UserWarning: Arguments other than a weight enum or `None` for 'weights' are deprecated since 0.13 and may be removed in the future. The current behavior is equivalent to passing `weights=None`.\n",
      "  warnings.warn(msg)\n"
     ]
    }
   ],
   "source": [
    "from torchvision.models import resnet18, resnet50\n",
    "\n",
    "device = torch.device('cuda:0')\n",
    "\n",
    "num_classes = len(np.unique(val_dataset.labels))\n",
    "model = resnet50(pretrained=False, num_classes=num_classes)\n",
    "\n",
    "model.load_state_dict(torch.load(f'/home/royhirsch/conformal/notebooks/medmnist/{dataset_name}/resnet50_224_1.pth')['net'])\n",
    "model = model.to(device)\n",
    "model = model.eval()\n",
    "\n",
    "# print('==> Evaluating ...')\n",
    "# test(model, val_loader, 'val', dataset_name)\n",
    "# test(model, test_loader, 'test', dataset_name)"
   ]
  },
  {
   "cell_type": "code",
   "execution_count": 5,
   "metadata": {},
   "outputs": [
    {
     "name": "stderr",
     "output_type": "stream",
     "text": [
      "100%|██████████| 93/93 [00:55<00:00,  1.67it/s]\n",
      "100%|██████████| 185/185 [01:30<00:00,  2.04it/s]\n"
     ]
    },
    {
     "name": "stdout",
     "output_type": "stream",
     "text": [
      "(23640, 2048) (47280, 2048)\n"
     ]
    }
   ],
   "source": [
    "import sys\n",
    "sys.path.append('/home/royhirsch/conformal')\n",
    "from extract import get_embeds_logits\n",
    "from data import ScoresDataset\n",
    "from conformal_baselines import naive, aps, raps, my_aps, calc_conformal_mets\n",
    "\n",
    "val_embeds, val_preds, val_labels = get_embeds_logits(model, val_loader, device)\n",
    "test_embeds, test_preds, test_labels = get_embeds_logits(model, test_loader, device)\n",
    "print(val_embeds.shape, test_embeds.shape)"
   ]
  },
  {
   "cell_type": "code",
   "execution_count": 6,
   "metadata": {},
   "outputs": [
    {
     "name": "stderr",
     "output_type": "stream",
     "text": [
      "  1%|          | 1/100 [00:01<02:22,  1.44s/it]"
     ]
    },
    {
     "name": "stdout",
     "output_type": "stream",
     "text": [
      "(47280, 2048) (47280, 8) (47280,) 1.218401312828064\n"
     ]
    },
    {
     "name": "stderr",
     "output_type": "stream",
     "text": [
      "\n"
     ]
    }
   ],
   "source": [
    "from scipy.special import softmax\n",
    "import torch\n",
    "\n",
    "if unify_test_and_val:\n",
    "    embeds = np.concatenate([val_embeds, test_embeds])\n",
    "    preds = np.concatenate([val_preds, test_preds])\n",
    "    labels = np.squeeze(np.concatenate([val_labels, test_labels]))\n",
    "else:\n",
    "    embeds = test_embeds\n",
    "    preds = test_preds\n",
    "    labels = np.squeeze(test_labels)\n",
    "\n",
    "if use_plat:\n",
    "    t = platt_logits(preds, labels, 100)\n",
    "else:\n",
    "    t = 1\n",
    "\n",
    "probs = softmax(preds / t, 1)\n",
    "print(embeds.shape, probs.shape, labels.shape, t)"
   ]
  },
  {
   "cell_type": "code",
   "execution_count": 7,
   "metadata": {},
   "outputs": [
    {
     "name": "stdout",
     "output_type": "stream",
     "text": [
      "naive\n",
      "set_size_mean: 2.154\n",
      "set_size_std: 1.030\n",
      "acc_per_label_mean: 0.874\n",
      "acc: 0.913\n",
      "\n",
      "\n",
      "aps\n",
      "set_size_mean: 3.729\n",
      "set_size_std: 1.864\n",
      "acc_per_label_mean: 0.933\n",
      "acc: 0.918\n",
      "\n",
      "\n",
      "raps\n",
      "set_size_mean: 2.314\n",
      "set_size_std: 1.249\n",
      "acc_per_label_mean: 0.875\n",
      "acc: 0.900\n",
      "\n",
      "\n"
     ]
    }
   ],
   "source": [
    "ds = ScoresDataset(torch.tensor(embeds),\n",
    "                   torch.tensor(probs),\n",
    "                   torch.tensor(labels),\n",
    "                   torch.tensor(np.zeros_like(labels)))\n",
    "dl = data.DataLoader(ds)\n",
    "\n",
    "n_calib = 500\n",
    "alpha = 0.1\n",
    "\n",
    "mets = {}\n",
    "\n",
    "conf_sets, conf_labels = naive(dl, None, n_calib, alpha)\n",
    "mets['naive'] = calc_conformal_mets(conf_sets, conf_labels)\n",
    "\n",
    "conf_sets, conf_labels = aps(dl, None, n_calib, alpha)\n",
    "mets['aps'] = calc_conformal_mets(conf_sets, conf_labels)\n",
    "\n",
    "conf_sets, conf_labels = raps(dl, None, n_calib, alpha)\n",
    "mets['raps'] = calc_conformal_mets(conf_sets, conf_labels)\n",
    "\n",
    "for k, v in mets.items():\n",
    "    print(k)\n",
    "    for kk, vv in v.items():\n",
    "        print(f'{kk}: {vv:.3f}')\n",
    "    print('\\n')\n"
   ]
  },
  {
   "cell_type": "markdown",
   "metadata": {},
   "source": [
    "# Parametric"
   ]
  },
  {
   "cell_type": "code",
   "execution_count": 8,
   "metadata": {},
   "outputs": [
    {
     "name": "stderr",
     "output_type": "stream",
     "text": [
      "INFO - 10/02/23 12:07:44 - 0:00:00 - Created main log at /home/royhirsch/conformal/exps/temp1/net_launcher_log.log\n",
      "INFO - 10/02/23 12:07:44 - 0:00:00 - Config:\n",
      "INFO - 10/02/23 12:07:44 - 0:00:00 - alpha: 0.1\n",
      "INFO - 10/02/23 12:07:44 - 0:00:00 - batch_size: 128\n",
      "INFO - 10/02/23 12:07:44 - 0:00:00 - comments: \n",
      "INFO - 10/02/23 12:07:44 - 0:00:00 - conformal_module_name: aps\n",
      "INFO - 10/02/23 12:07:44 - 0:00:00 - criteria_name: mse\n",
      "INFO - 10/02/23 12:07:44 - 0:00:00 - device: cuda:0\n",
      "INFO - 10/02/23 12:07:44 - 0:00:00 - drop_rate: 0.0\n",
      "INFO - 10/02/23 12:07:44 - 0:00:00 - dump_log: False\n",
      "INFO - 10/02/23 12:07:44 - 0:00:00 - exp_dir: /home/royhirsch/conformal/exps/temp1\n",
      "INFO - 10/02/23 12:07:44 - 0:00:00 - file_name: /home/royhirsch/conformal/data/embeds_n_logits/aug/medmnist/tissuemnist_test.pickle\n",
      "INFO - 10/02/23 12:07:44 - 0:00:00 - gpu_num: 0\n",
      "INFO - 10/02/23 12:07:44 - 0:00:00 - hidden_dim: 32\n",
      "INFO - 10/02/23 12:07:44 - 0:00:00 - input_dim: 2048\n",
      "INFO - 10/02/23 12:07:44 - 0:00:00 - label_transform_name: none\n",
      "INFO - 10/02/23 12:07:44 - 0:00:00 - lr: 0.0005\n",
      "INFO - 10/02/23 12:07:44 - 0:00:00 - monitor_met_name: val_loss\n",
      "INFO - 10/02/23 12:07:44 - 0:00:00 - name: temp1\n",
      "INFO - 10/02/23 12:07:44 - 0:00:00 - norm: False\n",
      "INFO - 10/02/23 12:07:44 - 0:00:00 - num_epochs: 60\n",
      "INFO - 10/02/23 12:07:44 - 0:00:00 - num_test: 3500\n",
      "INFO - 10/02/23 12:07:44 - 0:00:00 - num_train: 40000\n",
      "INFO - 10/02/23 12:07:44 - 0:00:00 - num_valid: 3500\n",
      "INFO - 10/02/23 12:07:44 - 0:00:00 - num_workers: 4\n",
      "INFO - 10/02/23 12:07:44 - 0:00:00 - optimizer_name: adamw\n",
      "INFO - 10/02/23 12:07:44 - 0:00:00 - out_dir: /home/royhirsch/conformal/exps\n",
      "INFO - 10/02/23 12:07:44 - 0:00:00 - pin_memory: True\n",
      "INFO - 10/02/23 12:07:44 - 0:00:00 - plat_scaling: True\n",
      "INFO - 10/02/23 12:07:44 - 0:00:00 - save_interval: 200\n",
      "INFO - 10/02/23 12:07:44 - 0:00:00 - scheduler_name: none\n",
      "INFO - 10/02/23 12:07:44 - 0:00:00 - seed: 42\n",
      "INFO - 10/02/23 12:07:44 - 0:00:00 - use_score_clipping: True\n",
      "INFO - 10/02/23 12:07:44 - 0:00:00 - val_interval: 5\n",
      "INFO - 10/02/23 12:07:44 - 0:00:00 - wd: 1e-06\n",
      "INFO - 10/02/23 12:07:44 - 0:00:00 - \n",
      "INFO - 10/02/23 12:07:44 - 0:00:00 - Split 47280 samples to train/val/test : 40000/3500/3500\n",
      "INFO - 10/02/23 12:07:44 - 0:00:00 - train shape: (40000,)\n",
      "INFO - 10/02/23 12:07:44 - 0:00:00 - valid shape: (3500,)\n",
      "INFO - 10/02/23 12:07:44 - 0:00:00 - test shape: (3500,)\n",
      "  2%|▏         | 2/100 [00:01<01:24,  1.15it/s]\n",
      "INFO - 10/02/23 12:07:46 - 0:00:02 - Temp is 1.2105\n",
      "INFO - 10/02/23 12:07:46 - 0:00:02 - Clipping 10.00% of the scores to 0.9864\n",
      "INFO - 10/02/23 12:07:46 - 0:00:02 - Clipping 10.49% of the scores to 0.9864\n",
      "INFO - 10/02/23 12:07:46 - 0:00:02 - Clipping 10.17% of the scores to 0.9864\n",
      "INFO - 10/02/23 12:07:46 - 0:00:02 - Baseline mets (after clipping): sets: 1.386 | acc: 0.898\n",
      "INFO - 10/02/23 12:07:46 - 0:00:02 - NN(\n",
      "                                       (layers): Sequential(\n",
      "                                         (0): Linear(in_features=2048, out_features=32, bias=True)\n",
      "                                         (1): ReLU()\n",
      "                                         (2): Linear(in_features=32, out_features=1, bias=True)\n",
      "                                       )\n",
      "                                     )\n",
      "INFO - 10/02/23 12:07:46 - 0:00:02 - Label transform: none\n",
      "INFO - 10/02/23 12:07:46 - 0:00:02 - Start training for 60 epochs:\n",
      "INFO - 10/02/23 12:07:46 - 0:00:02 - Number of batches in train epoch: 313\n",
      "INFO - 10/02/23 12:07:46 - 0:00:02 - E 1/60 |\n",
      "313it [00:01, 307.83it/s]\n",
      "INFO - 10/02/23 12:07:47 - 0:00:04 - E1-Train: loss=0.0534 | r^2=-0.5394 | l2=0.0534\n",
      "INFO - 10/02/23 12:07:47 - 0:00:04 - E 2/60 |\n",
      "313it [00:01, 299.64it/s]\n",
      "INFO - 10/02/23 12:07:48 - 0:00:05 - E2-Train: loss=0.0276 | r^2=0.2051 | l2=0.0276\n",
      "INFO - 10/02/23 12:07:48 - 0:00:05 - E 3/60 |\n",
      "313it [00:01, 302.50it/s]\n",
      "INFO - 10/02/23 12:07:49 - 0:00:06 - E3-Train: loss=0.0268 | r^2=0.2284 | l2=0.0268\n",
      "INFO - 10/02/23 12:07:49 - 0:00:06 - E 4/60 |\n",
      "313it [00:01, 303.33it/s]\n",
      "INFO - 10/02/23 12:07:50 - 0:00:07 - E4-Train: loss=0.0261 | r^2=0.2481 | l2=0.0261\n",
      "INFO - 10/02/23 12:07:50 - 0:00:07 - E 5/60 |\n",
      "313it [00:01, 290.53it/s]\n",
      "INFO - 10/02/23 12:07:51 - 0:00:08 - E5-Train: loss=0.0257 | r^2=0.2603 | l2=0.0257\n",
      "/home/royhirsch/miniconda3/envs/conf/lib/python3.11/site-packages/torch/optim/lr_scheduler.py:152: UserWarning: The epoch parameter in `scheduler.step()` was not necessary and is being deprecated where possible. Please use `scheduler.step()` to step the scheduler. During the deprecation, if epoch is different from None, the closed form is used instead of the new chainable form, where available. Please open an issue if you are unable to replicate your use case: https://github.com/pytorch/pytorch/issues/new/choose.\n",
      "  warnings.warn(EPOCH_DEPRECATION_WARNING, UserWarning)\n",
      "INFO - 10/02/23 12:07:51 - 0:00:08 - E5-Validation: val_loss=0.0237 | val_r^2=0.2629 | val_l2=0.0239\n",
      "INFO - 10/02/23 12:07:51 - 0:00:08 - E 6/60 |\n",
      "313it [00:01, 311.90it/s]\n",
      "INFO - 10/02/23 12:07:52 - 0:00:09 - E6-Train: loss=0.0253 | r^2=0.2707 | l2=0.0253\n",
      "INFO - 10/02/23 12:07:52 - 0:00:09 - E 7/60 |\n",
      "313it [00:01, 292.99it/s]\n",
      "INFO - 10/02/23 12:07:54 - 0:00:10 - E7-Train: loss=0.0253 | r^2=0.2718 | l2=0.0253\n",
      "INFO - 10/02/23 12:07:54 - 0:00:10 - E 8/60 |\n",
      "313it [00:01, 306.38it/s]\n",
      "INFO - 10/02/23 12:07:55 - 0:00:11 - E8-Train: loss=0.0250 | r^2=0.2788 | l2=0.0250\n",
      "INFO - 10/02/23 12:07:55 - 0:00:11 - E 9/60 |\n",
      "313it [00:01, 310.56it/s]\n",
      "INFO - 10/02/23 12:07:56 - 0:00:12 - E9-Train: loss=0.0247 | r^2=0.2882 | l2=0.0247\n",
      "INFO - 10/02/23 12:07:56 - 0:00:12 - E 10/60 |\n",
      "313it [00:01, 307.59it/s]\n",
      "INFO - 10/02/23 12:07:57 - 0:00:13 - E10-Train: loss=0.0248 | r^2=0.2842 | l2=0.0248\n",
      "INFO - 10/02/23 12:07:57 - 0:00:13 - E10-Validation: val_loss=0.0234 | val_r^2=0.2708 | val_l2=0.0237\n",
      "INFO - 10/02/23 12:07:57 - 0:00:13 - E 11/60 |\n",
      "313it [00:00, 317.54it/s]\n",
      "INFO - 10/02/23 12:07:58 - 0:00:14 - E11-Train: loss=0.0248 | r^2=0.2850 | l2=0.0248\n",
      "INFO - 10/02/23 12:07:58 - 0:00:14 - E 12/60 |\n",
      "313it [00:01, 301.13it/s]\n",
      "INFO - 10/02/23 12:07:59 - 0:00:15 - E12-Train: loss=0.0245 | r^2=0.2946 | l2=0.0245\n",
      "INFO - 10/02/23 12:07:59 - 0:00:15 - E 13/60 |\n",
      "313it [00:01, 312.67it/s]\n",
      "INFO - 10/02/23 12:08:00 - 0:00:16 - E13-Train: loss=0.0244 | r^2=0.2955 | l2=0.0244\n",
      "INFO - 10/02/23 12:08:00 - 0:00:16 - E 14/60 |\n",
      "313it [00:00, 317.64it/s]\n",
      "INFO - 10/02/23 12:08:01 - 0:00:17 - E14-Train: loss=0.0245 | r^2=0.2943 | l2=0.0245\n",
      "INFO - 10/02/23 12:08:01 - 0:00:17 - E 15/60 |\n",
      "313it [00:01, 305.35it/s]\n",
      "INFO - 10/02/23 12:08:02 - 0:00:18 - E15-Train: loss=0.0243 | r^2=0.3003 | l2=0.0243\n",
      "INFO - 10/02/23 12:08:02 - 0:00:18 - E15-Validation: val_loss=0.0229 | val_r^2=0.2861 | val_l2=0.0232\n",
      "INFO - 10/02/23 12:08:02 - 0:00:18 - E 16/60 |\n",
      "313it [00:00, 320.70it/s]\n",
      "INFO - 10/02/23 12:08:03 - 0:00:19 - E16-Train: loss=0.0240 | r^2=0.3069 | l2=0.0240\n",
      "INFO - 10/02/23 12:08:03 - 0:00:19 - E 17/60 |\n",
      "313it [00:01, 307.43it/s]\n",
      "INFO - 10/02/23 12:08:04 - 0:00:20 - E17-Train: loss=0.0242 | r^2=0.3036 | l2=0.0242\n",
      "INFO - 10/02/23 12:08:04 - 0:00:20 - E 18/60 |\n",
      "313it [00:01, 307.10it/s]\n",
      "INFO - 10/02/23 12:08:05 - 0:00:21 - E18-Train: loss=0.0243 | r^2=0.3010 | l2=0.0242\n",
      "INFO - 10/02/23 12:08:05 - 0:00:21 - E 19/60 |\n",
      "313it [00:01, 311.12it/s]\n",
      "INFO - 10/02/23 12:08:06 - 0:00:22 - E19-Train: loss=0.0239 | r^2=0.3101 | l2=0.0239\n",
      "INFO - 10/02/23 12:08:06 - 0:00:22 - E 20/60 |\n",
      "313it [00:01, 310.94it/s]\n",
      "INFO - 10/02/23 12:08:07 - 0:00:23 - E20-Train: loss=0.0240 | r^2=0.3088 | l2=0.0240\n",
      "INFO - 10/02/23 12:08:07 - 0:00:23 - E20-Validation: val_loss=0.0232 | val_r^2=0.2776 | val_l2=0.0235\n",
      "INFO - 10/02/23 12:08:07 - 0:00:23 - E 21/60 |\n",
      "313it [00:01, 310.22it/s]\n",
      "INFO - 10/02/23 12:08:08 - 0:00:24 - E21-Train: loss=0.0242 | r^2=0.3031 | l2=0.0242\n",
      "INFO - 10/02/23 12:08:08 - 0:00:24 - E 22/60 |\n",
      "313it [00:01, 306.31it/s]\n",
      "INFO - 10/02/23 12:08:09 - 0:00:25 - E22-Train: loss=0.0238 | r^2=0.3131 | l2=0.0238\n",
      "INFO - 10/02/23 12:08:09 - 0:00:25 - E 23/60 |\n",
      "313it [00:01, 302.97it/s]\n",
      "INFO - 10/02/23 12:08:10 - 0:00:26 - E23-Train: loss=0.0239 | r^2=0.3098 | l2=0.0239\n",
      "INFO - 10/02/23 12:08:10 - 0:00:26 - E 24/60 |\n",
      "313it [00:01, 298.80it/s]\n",
      "INFO - 10/02/23 12:08:11 - 0:00:28 - E24-Train: loss=0.0238 | r^2=0.3143 | l2=0.0238\n",
      "INFO - 10/02/23 12:08:11 - 0:00:28 - E 25/60 |\n",
      "313it [00:01, 296.63it/s]\n",
      "INFO - 10/02/23 12:08:12 - 0:00:29 - E25-Train: loss=0.0237 | r^2=0.3155 | l2=0.0237\n",
      "INFO - 10/02/23 12:08:12 - 0:00:29 - E25-Validation: val_loss=0.0229 | val_r^2=0.2879 | val_l2=0.0231\n",
      "INFO - 10/02/23 12:08:12 - 0:00:29 - E 26/60 |\n",
      "313it [00:01, 291.71it/s]\n",
      "INFO - 10/02/23 12:08:13 - 0:00:30 - E26-Train: loss=0.0237 | r^2=0.3161 | l2=0.0237\n",
      "INFO - 10/02/23 12:08:13 - 0:00:30 - E 27/60 |\n",
      "313it [00:01, 294.84it/s]\n",
      "INFO - 10/02/23 12:08:14 - 0:00:31 - E27-Train: loss=0.0237 | r^2=0.3179 | l2=0.0237\n",
      "INFO - 10/02/23 12:08:14 - 0:00:31 - E 28/60 |\n",
      "313it [00:01, 293.69it/s]\n",
      "INFO - 10/02/23 12:08:15 - 0:00:32 - E28-Train: loss=0.0237 | r^2=0.3157 | l2=0.0237\n",
      "INFO - 10/02/23 12:08:15 - 0:00:32 - E 29/60 |\n",
      "313it [00:01, 308.20it/s]\n",
      "INFO - 10/02/23 12:08:17 - 0:00:33 - E29-Train: loss=0.0237 | r^2=0.3165 | l2=0.0237\n",
      "INFO - 10/02/23 12:08:17 - 0:00:33 - E 30/60 |\n",
      "313it [00:01, 303.07it/s]\n",
      "INFO - 10/02/23 12:08:18 - 0:00:34 - E30-Train: loss=0.0236 | r^2=0.3205 | l2=0.0236\n",
      "INFO - 10/02/23 12:08:18 - 0:00:34 - E30-Validation: val_loss=0.0237 | val_r^2=0.2637 | val_l2=0.0239\n",
      "INFO - 10/02/23 12:08:18 - 0:00:34 - E 31/60 |\n",
      "313it [00:01, 294.05it/s]\n",
      "INFO - 10/02/23 12:08:19 - 0:00:35 - E31-Train: loss=0.0233 | r^2=0.3286 | l2=0.0233\n",
      "INFO - 10/02/23 12:08:19 - 0:00:35 - E 32/60 |\n",
      "313it [00:01, 300.79it/s]\n",
      "INFO - 10/02/23 12:08:20 - 0:00:36 - E32-Train: loss=0.0231 | r^2=0.3328 | l2=0.0231\n",
      "INFO - 10/02/23 12:08:20 - 0:00:36 - E 33/60 |\n",
      "313it [00:00, 313.77it/s]\n",
      "INFO - 10/02/23 12:08:21 - 0:00:37 - E33-Train: loss=0.0229 | r^2=0.3394 | l2=0.0229\n",
      "INFO - 10/02/23 12:08:21 - 0:00:37 - E 34/60 |\n",
      "313it [00:01, 311.92it/s]\n",
      "INFO - 10/02/23 12:08:22 - 0:00:38 - E34-Train: loss=0.0228 | r^2=0.3415 | l2=0.0228\n",
      "INFO - 10/02/23 12:08:22 - 0:00:38 - E 35/60 |\n",
      "313it [00:00, 318.25it/s]\n",
      "INFO - 10/02/23 12:08:23 - 0:00:39 - E35-Train: loss=0.0230 | r^2=0.3361 | l2=0.0230\n",
      "INFO - 10/02/23 12:08:23 - 0:00:39 - E35-Validation: val_loss=0.0218 | val_r^2=0.3194 | val_l2=0.0221\n",
      "INFO - 10/02/23 12:08:23 - 0:00:39 - E 36/60 |\n",
      "313it [00:00, 321.41it/s]\n",
      "INFO - 10/02/23 12:08:24 - 0:00:40 - E36-Train: loss=0.0226 | r^2=0.3474 | l2=0.0226\n",
      "INFO - 10/02/23 12:08:24 - 0:00:40 - E 37/60 |\n",
      "313it [00:01, 300.79it/s]\n",
      "INFO - 10/02/23 12:08:25 - 0:00:41 - E37-Train: loss=0.0226 | r^2=0.3492 | l2=0.0226\n",
      "INFO - 10/02/23 12:08:25 - 0:00:41 - E 38/60 |\n",
      "313it [00:01, 305.47it/s]\n",
      "INFO - 10/02/23 12:08:26 - 0:00:42 - E38-Train: loss=0.0224 | r^2=0.3551 | l2=0.0224\n",
      "INFO - 10/02/23 12:08:26 - 0:00:42 - E 39/60 |\n",
      "313it [00:01, 293.89it/s]\n",
      "INFO - 10/02/23 12:08:27 - 0:00:43 - E39-Train: loss=0.0223 | r^2=0.3560 | l2=0.0223\n",
      "INFO - 10/02/23 12:08:27 - 0:00:43 - E 40/60 |\n",
      "313it [00:01, 300.47it/s]\n",
      "INFO - 10/02/23 12:08:28 - 0:00:44 - E40-Train: loss=0.0223 | r^2=0.3560 | l2=0.0223\n",
      "INFO - 10/02/23 12:08:28 - 0:00:44 - E40-Validation: val_loss=0.0215 | val_r^2=0.3303 | val_l2=0.0217\n",
      "INFO - 10/02/23 12:08:28 - 0:00:44 - E 41/60 |\n",
      "313it [00:00, 321.82it/s]\n",
      "INFO - 10/02/23 12:08:29 - 0:00:45 - E41-Train: loss=0.0222 | r^2=0.3593 | l2=0.0222\n",
      "INFO - 10/02/23 12:08:29 - 0:00:45 - E 42/60 |\n",
      "313it [00:01, 307.30it/s]\n",
      "INFO - 10/02/23 12:08:30 - 0:00:46 - E42-Train: loss=0.0222 | r^2=0.3612 | l2=0.0222\n",
      "INFO - 10/02/23 12:08:30 - 0:00:47 - E 43/60 |\n",
      "313it [00:01, 308.75it/s]\n",
      "INFO - 10/02/23 12:08:31 - 0:00:48 - E43-Train: loss=0.0221 | r^2=0.3639 | l2=0.0221\n",
      "INFO - 10/02/23 12:08:31 - 0:00:48 - E 44/60 |\n",
      "313it [00:01, 291.63it/s]\n",
      "INFO - 10/02/23 12:08:32 - 0:00:49 - E44-Train: loss=0.0220 | r^2=0.3661 | l2=0.0220\n",
      "INFO - 10/02/23 12:08:32 - 0:00:49 - E 45/60 |\n",
      "313it [00:01, 304.98it/s]\n",
      "INFO - 10/02/23 12:08:33 - 0:00:50 - E45-Train: loss=0.0221 | r^2=0.3627 | l2=0.0221\n",
      "INFO - 10/02/23 12:08:33 - 0:00:50 - E45-Validation: val_loss=0.0218 | val_r^2=0.3223 | val_l2=0.0220\n",
      "INFO - 10/02/23 12:08:33 - 0:00:50 - E 46/60 |\n",
      "313it [00:01, 307.38it/s]\n",
      "INFO - 10/02/23 12:08:34 - 0:00:51 - E46-Train: loss=0.0220 | r^2=0.3662 | l2=0.0220\n",
      "INFO - 10/02/23 12:08:34 - 0:00:51 - E 47/60 |\n",
      "313it [00:01, 304.64it/s]\n",
      "INFO - 10/02/23 12:08:35 - 0:00:52 - E47-Train: loss=0.0219 | r^2=0.3687 | l2=0.0219\n",
      "INFO - 10/02/23 12:08:35 - 0:00:52 - E 48/60 |\n",
      "313it [00:01, 307.44it/s]\n",
      "INFO - 10/02/23 12:08:36 - 0:00:53 - E48-Train: loss=0.0218 | r^2=0.3712 | l2=0.0218\n",
      "INFO - 10/02/23 12:08:36 - 0:00:53 - E 49/60 |\n",
      "313it [00:01, 298.47it/s]\n",
      "INFO - 10/02/23 12:08:38 - 0:00:54 - E49-Train: loss=0.0218 | r^2=0.3707 | l2=0.0218\n",
      "INFO - 10/02/23 12:08:38 - 0:00:54 - E 50/60 |\n",
      "313it [00:01, 304.85it/s]\n",
      "INFO - 10/02/23 12:08:39 - 0:00:55 - E50-Train: loss=0.0217 | r^2=0.3735 | l2=0.0217\n",
      "INFO - 10/02/23 12:08:39 - 0:00:55 - E50-Validation: val_loss=0.0215 | val_r^2=0.3323 | val_l2=0.0217\n",
      "INFO - 10/02/23 12:08:39 - 0:00:55 - E 51/60 |\n",
      "313it [00:01, 310.32it/s]\n",
      "INFO - 10/02/23 12:08:40 - 0:00:56 - E51-Train: loss=0.0218 | r^2=0.3712 | l2=0.0218\n",
      "INFO - 10/02/23 12:08:40 - 0:00:56 - E 52/60 |\n",
      "313it [00:01, 296.72it/s]\n",
      "INFO - 10/02/23 12:08:41 - 0:00:57 - E52-Train: loss=0.0216 | r^2=0.3769 | l2=0.0216\n",
      "INFO - 10/02/23 12:08:41 - 0:00:57 - E 53/60 |\n",
      "313it [00:01, 298.92it/s]\n",
      "INFO - 10/02/23 12:08:42 - 0:00:58 - E53-Train: loss=0.0217 | r^2=0.3743 | l2=0.0217\n",
      "INFO - 10/02/23 12:08:42 - 0:00:58 - E 54/60 |\n",
      "313it [00:01, 303.17it/s]\n",
      "INFO - 10/02/23 12:08:43 - 0:00:59 - E54-Train: loss=0.0215 | r^2=0.3811 | l2=0.0215\n",
      "INFO - 10/02/23 12:08:43 - 0:00:59 - E 55/60 |\n",
      "313it [00:01, 302.27it/s]\n",
      "INFO - 10/02/23 12:08:44 - 0:01:00 - E55-Train: loss=0.0216 | r^2=0.3781 | l2=0.0216\n",
      "INFO - 10/02/23 12:08:44 - 0:01:00 - E55-Validation: val_loss=0.0212 | val_r^2=0.3412 | val_l2=0.0214\n",
      "INFO - 10/02/23 12:08:44 - 0:01:00 - E 56/60 |\n",
      "313it [00:01, 308.88it/s]\n",
      "INFO - 10/02/23 12:08:45 - 0:01:01 - E56-Train: loss=0.0215 | r^2=0.3807 | l2=0.0215\n",
      "INFO - 10/02/23 12:08:45 - 0:01:01 - E 57/60 |\n",
      "313it [00:00, 320.55it/s]\n",
      "INFO - 10/02/23 12:08:46 - 0:01:02 - E57-Train: loss=0.0215 | r^2=0.3805 | l2=0.0215\n",
      "INFO - 10/02/23 12:08:46 - 0:01:02 - E 58/60 |\n",
      "313it [00:01, 308.39it/s]\n",
      "INFO - 10/02/23 12:08:47 - 0:01:03 - E58-Train: loss=0.0214 | r^2=0.3828 | l2=0.0214\n",
      "INFO - 10/02/23 12:08:47 - 0:01:03 - E 59/60 |\n",
      "313it [00:01, 309.72it/s]\n",
      "INFO - 10/02/23 12:08:48 - 0:01:04 - E59-Train: loss=0.0214 | r^2=0.3840 | l2=0.0214\n",
      "INFO - 10/02/23 12:08:48 - 0:01:04 - E 60/60 |\n",
      "313it [00:01, 296.08it/s]\n",
      "INFO - 10/02/23 12:08:49 - 0:01:05 - E60-Train: loss=0.0214 | r^2=0.3847 | l2=0.0213\n",
      "INFO - 10/02/23 12:08:49 - 0:01:05 - E60-Validation: val_loss=0.0213 | val_r^2=0.3383 | val_l2=0.0215\n",
      "INFO - 10/02/23 12:08:49 - 0:01:06 - E60-Test: loss=0.0213 | r^2=0.3383 | l2=0.0215\n",
      "INFO - 10/02/23 12:08:50 - 0:01:06 - Clipping 4.46% of the scores to 0.9864\n",
      "INFO - 10/02/23 12:08:50 - 0:01:07 - Train mets: sets: 1.740 | acc: 0.823\n",
      "INFO - 10/02/23 12:08:50 - 0:01:07 - Clipping 3.91% of the scores to 0.9864\n",
      "INFO - 10/02/23 12:08:50 - 0:01:07 - Valid mets: sets: 1.742 | acc: 0.833\n",
      "INFO - 10/02/23 12:08:51 - 0:01:07 - Clipping 4.46% of the scores to 0.9864\n",
      "INFO - 10/02/23 12:08:51 - 0:01:07 - Test mets: sets: 1.710 | acc: 0.811\n",
      "INFO - 10/02/23 12:08:51 - 0:01:07 - Residuals correction is 0.192, clip 36.09% of the samples\n",
      "INFO - 10/02/23 12:08:51 - 0:01:07 - Calibrated test mets: sets: 2.475 | acc: 0.933 | qhat: 0.192\n"
     ]
    }
   ],
   "source": [
    "import os\n",
    "import sys\n",
    "sys.path.append('/home/royhirsch/conformal')\n",
    "\n",
    "from ml_collections import config_dict\n",
    "import logging\n",
    "import numpy as np\n",
    "\n",
    "import torch\n",
    "import torch.nn as nn\n",
    "import torch.nn.functional as F\n",
    "\n",
    "import utils as utils\n",
    "from experiment import get_config, run_experiment\n",
    "\n",
    "config = get_config()\n",
    "config.alpha = 0.1\n",
    "# config.lr = 1e-3\n",
    "# config.wd = 1e-4\n",
    "config.num_epochs = 60\n",
    "config.hidden_dim = 32\n",
    "utils.seed_everything(config.seed)\n",
    "utils.create_logger(config.exp_dir, False)\n",
    "outs = run_experiment(config)\n"
   ]
  },
  {
   "cell_type": "code",
   "execution_count": 9,
   "metadata": {},
   "outputs": [
    {
     "data": {
      "text/plain": [
       "[<matplotlib.lines.Line2D at 0x7f4d7e756090>]"
      ]
     },
     "execution_count": 9,
     "metadata": {},
     "output_type": "execute_result"
    },
    {
     "data": {
      "image/png": "[encoded data removed]",
      "text/plain": [
       "<Figure size 640x480 with 1 Axes>"
      ]
     },
     "metadata": {},
     "output_type": "display_data"
    }
   ],
   "source": [
    "import matplotlib.pyplot as plt\n",
    "import matplotlib.pyplot as plt\n",
    "plt.plot(outs['history']['loss'], label='loss')\n",
    "plt.plot(np.arange(0, len(outs['history']['loss']), config.val_interval),\n",
    "         outs['history']['val_loss'], label='val_loss')"
   ]
  },
  {
   "cell_type": "code",
   "execution_count": 10,
   "metadata": {},
   "outputs": [
    {
     "name": "stdout",
     "output_type": "stream",
     "text": [
      "0.20377791\n"
     ]
    },
    {
     "name": "stderr",
     "output_type": "stream",
     "text": [
      "/tmp/ipykernel_83211/1608531041.py:8: DeprecationWarning: the `interpolation=` argument to quantile was renamed to `method=`, which has additional options.\n",
      "Users of the modes 'nearest', 'lower', 'higher', or 'midpoint' are encouraged to review the method they used. (Deprecated NumPy 1.22)\n",
      "  qhat = np.quantile(\n"
     ]
    }
   ],
   "source": [
    "# calibrate with the test set\n",
    "pred_scores = outs['test_out']['pred_scores']\n",
    "true_scores = outs['test_out']['true_scores']\n",
    "\n",
    "diff = true_scores - pred_scores\n",
    "alpha = config.alpha\n",
    "n = len(diff)\n",
    "qhat = np.quantile(\n",
    "    diff, np.ceil((n + 1) * (1 - alpha)) / n, interpolation=\"higher\")\n",
    "print(qhat)"
   ]
  },
  {
   "cell_type": "code",
   "execution_count": 11,
   "metadata": {},
   "outputs": [
    {
     "data": {
      "text/plain": [
       "<matplotlib.legend.Legend at 0x7f4d7ea23fd0>"
      ]
     },
     "execution_count": 11,
     "metadata": {},
     "output_type": "execute_result"
    },
    {
     "data": {
      "image/png": "[encoded data removed]",
      "text/plain": [
       "<Figure size 640x480 with 1 Axes>"
      ]
     },
     "metadata": {},
     "output_type": "display_data"
    }
   ],
   "source": [
    "train_pred_scores = outs['train_out']['pred_scores']\n",
    "train_true_scores = outs['train_out']['true_scores']\n",
    "train_diff = train_true_scores - train_pred_scores\n",
    "\n",
    "plt.hist(diff, label='calib', alpha=0.5, density=True)\n",
    "plt.hist(train_diff, label='train', alpha=0.5, density=True)\n",
    "plt.title('Residual dist.')\n",
    "plt.legend()"
   ]
  },
  {
   "cell_type": "code",
   "execution_count": 12,
   "metadata": {},
   "outputs": [
    {
     "name": "stdout",
     "output_type": "stream",
     "text": [
      "0.38142857142857145\n",
      "{'sets': 2.3414285714285716, 'acc': 0.5888571428571429}\n"
     ]
    }
   ],
   "source": [
    "# update the validation scores\n",
    "pred_scores = outs['val_out']['pred_scores']\n",
    "true_scores = outs['val_out']['true_scores']\n",
    "cls_probs = outs['val_out']['cls_probs']\n",
    "cls_labels = outs['val_out']['cls_labels']\n",
    "\n",
    "clip_value = np.max(outs['train_out']['true_scores'])\n",
    "if config.use_score_clipping:\n",
    "    pred_scores[pred_scores > clip_value] = clip_value\n",
    "\n",
    "modified_scores = pred_scores + qhat\n",
    "\n",
    "inds = np.where(modified_scores >= 1.)\n",
    "if len(inds[0]):\n",
    "    print(len(inds[0]) / len(cls_labels))\n",
    "    modified_scores[inds[0]] = clip_value\n",
    "\n",
    "from conformal import APS\n",
    "\n",
    "conformal_module = APS()\n",
    "sets = conformal_module.get_sets(\n",
    "    modified_scores,\n",
    "    cls_probs)\n",
    "mets = conformal_module.get_conformal_mets(sets, cls_labels)\n",
    "print(mets)\n"
   ]
  },
  {
   "cell_type": "code",
   "execution_count": 13,
   "metadata": {},
   "outputs": [
    {
     "data": {
      "text/plain": [
       "<matplotlib.legend.Legend at 0x7f4d7e6b7510>"
      ]
     },
     "execution_count": 13,
     "metadata": {},
     "output_type": "execute_result"
    },
    {
     "data": {
      "image/png": "[encoded data removed]",
      "text/plain": [
       "<Figure size 640x480 with 1 Axes>"
      ]
     },
     "metadata": {},
     "output_type": "display_data"
    }
   ],
   "source": [
    "nbins = 50\n",
    "pred_scores = outs['train_out']['pred_scores']\n",
    "true_scores = outs['train_out']['true_scores']\n",
    "\n",
    "plt.title('Train')\n",
    "plt.hist(true_scores, bins=nbins, label='true_scores', alpha=0.5)\n",
    "plt.hist(pred_scores, bins=nbins, label='pred_scores', alpha=0.5)\n",
    "plt.legend()"
   ]
  },
  {
   "cell_type": "code",
   "execution_count": 14,
   "metadata": {},
   "outputs": [
    {
     "data": {
      "text/plain": [
       "<matplotlib.legend.Legend at 0x7f4d7e5b7510>"
      ]
     },
     "execution_count": 14,
     "metadata": {},
     "output_type": "execute_result"
    },
    {
     "data": {
      "image/png": "[encoded data removed]",
      "text/plain": [
       "<Figure size 640x480 with 1 Axes>"
      ]
     },
     "metadata": {},
     "output_type": "display_data"
    }
   ],
   "source": [
    "nbins = 50\n",
    "pred_scores = outs['val_out']['pred_scores']\n",
    "true_scores = outs['val_out']['true_scores']\n",
    "\n",
    "plt.title('Val')\n",
    "plt.hist(true_scores, bins=nbins, label='true_scores', alpha=0.5)\n",
    "plt.hist(pred_scores, bins=nbins, label='pred_scores', alpha=0.5)\n",
    "plt.legend()"
   ]
  }
 ],
 "metadata": {
  "kernelspec": {
   "display_name": "Python 3",
   "language": "python",
   "name": "python3"
  },
  "language_info": {
   "codemirror_mode": {
    "name": "ipython",
    "version": 3
   },
   "file_extension": ".py",
   "mimetype": "text/x-python",
   "name": "python",
   "nbconvert_exporter": "python",
   "pygments_lexer": "ipython3",
   "version": "3.11.4"
  }
 },
 "nbformat": 4,
 "nbformat_minor": 4
}
