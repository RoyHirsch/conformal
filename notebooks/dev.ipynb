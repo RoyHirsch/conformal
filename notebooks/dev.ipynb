{
 "cells": [
  {
   "cell_type": "code",
   "execution_count": 9,
   "metadata": {},
   "outputs": [
    {
     "data": {
      "text/plain": [
       "array([0.85, 0.85])"
      ]
     },
     "execution_count": 9,
     "metadata": {},
     "output_type": "execute_result"
    }
   ],
   "source": [
    "import numpy as np\n",
    "from scipy.special import softmax\n",
    "\n",
    "# softmax_logits = softmax(logits/T, axis=1)\n",
    "labels = np.asarray([0, 0])\n",
    "n = len(labels)\n",
    "softmax_logits = np.asarray([[.25, .05, .6, .1], [.25, .05, .6, .1]])\n",
    "y_true_scores = softmax_logits[np.arange(n), labels]\n",
    "mask = softmax_logits >= np.expand_dims(y_true_scores, 1)\n",
    "(mask * softmax_logits).sum(1)\n",
    "\n"
   ]
  },
  {
   "cell_type": "code",
   "execution_count": 15,
   "metadata": {},
   "outputs": [],
   "source": [
    "from evaluate import load_pickle, split_data\n",
    "\n",
    "n_calib = 1000\n",
    "batch_size = 128\n",
    "num_worker = 4\n",
    "alpha = 0.1\n",
    "ts = True\n",
    "seed = None\n",
    "file_name = '/home/royhirsch/conformal/data/embeds_n_logits/imnet1k_r18/valid.pickle'\n",
    "\n",
    "data = load_pickle(file_name)\n",
    "valid_data, calib_data = split_data(data, n_calib, seed=0)\n",
    "\n",
    "logits = calib_data['preds']\n",
    "labels = calib_data['labels']\n",
    "n = len(labels)\n"
   ]
  },
  {
   "cell_type": "code",
   "execution_count": 18,
   "metadata": {},
   "outputs": [
    {
     "name": "stdout",
     "output_type": "stream",
     "text": [
      "0.99940026\n"
     ]
    }
   ],
   "source": [
    "softmax_logits = softmax(logits / 1, axis=1)\n",
    "y_true_scores = softmax_logits[np.arange(n), labels]\n",
    "mask = softmax_logits >= np.expand_dims(y_true_scores, 1)\n",
    "scores = (mask * softmax_logits).sum(1)\n",
    "\n",
    "q_level = np.ceil((n+1)*(1-alpha))/n\n",
    "qhat = np.quantile(scores, q_level, interpolation=\"higher\")\n",
    "print(qhat)"
   ]
  },
  {
   "cell_type": "code",
   "execution_count": 20,
   "metadata": {},
   "outputs": [
    {
     "data": {
      "text/plain": [
       "189.7559"
      ]
     },
     "execution_count": 20,
     "metadata": {},
     "output_type": "execute_result"
    }
   ],
   "source": [
    "val_logits = valid_data['preds'][:10000,:]\n",
    "val_labels = valid_data['labels'][:10000]\n",
    "\n",
    "scores = softmax(val_logits / 1, axis=1)\n",
    "\n",
    "asending_inds = scores.argsort(1)[:, ::-1]\n",
    "asending_scores = np.sort(scores, axis=1)[:, ::-1]\n",
    "cumsum_asending_scores = asending_scores.cumsum(axis=1)\n",
    "\n",
    "sets = np.zeros_like(scores)\n",
    "for i, row in enumerate(cumsum_asending_scores):\n",
    "    indices = np.where(row >= qhat)[0]\n",
    "    if len(indices) > 0:\n",
    "        sets[i, asending_inds[i, :indices[0]]] = 1\n",
    "    else:\n",
    "        # empty sets\n",
    "        continue\n",
    "sets.sum(1).mean()"
   ]
  },
  {
   "cell_type": "code",
   "execution_count": 26,
   "metadata": {},
   "outputs": [
    {
     "data": {
      "text/plain": [
       "array([898.,   4.,  28., 120.,  59.,   2., 421., 645., 334.,  37.,  24.,\n",
       "       818.], dtype=float32)"
      ]
     },
     "execution_count": 26,
     "metadata": {},
     "output_type": "execute_result"
    }
   ],
   "source": [
    "sets.sum(1)[:12]"
   ]
  }
 ],
 "metadata": {
  "kernelspec": {
   "display_name": "conf",
   "language": "python",
   "name": "python3"
  },
  "language_info": {
   "codemirror_mode": {
    "name": "ipython",
    "version": 3
   },
   "file_extension": ".py",
   "mimetype": "text/x-python",
   "name": "python",
   "nbconvert_exporter": "python",
   "pygments_lexer": "ipython3",
   "version": "3.11.4"
  },
  "orig_nbformat": 4
 },
 "nbformat": 4,
 "nbformat_minor": 2
}
